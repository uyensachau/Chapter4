{
 "cells": [
  {
   "cell_type": "code",
   "execution_count": 1,
   "metadata": {
    "collapsed": false
   },
   "outputs": [
    {
     "ename": "IOError",
     "evalue": "[Errno 2] No such file or directory: '-f'",
     "output_type": "error",
     "traceback": [
      "\u001b[0;31m---------------------------------------------------------------------------\u001b[0m",
      "\u001b[0;31mIOError\u001b[0m                                   Traceback (most recent call last)",
      "\u001b[0;32m<ipython-input-1-b2bff3afdc76>\u001b[0m in \u001b[0;36m<module>\u001b[0;34m()\u001b[0m\n\u001b[1;32m     29\u001b[0m \u001b[1;33m\u001b[0m\u001b[0m\n\u001b[1;32m     30\u001b[0m \u001b[1;31m# LOAD OBJECT AFTER PYGAME INIT\u001b[0m\u001b[1;33m\u001b[0m\u001b[1;33m\u001b[0m\u001b[0m\n\u001b[0;32m---> 31\u001b[0;31m \u001b[0mobj\u001b[0m \u001b[1;33m=\u001b[0m \u001b[0mOBJ\u001b[0m\u001b[1;33m(\u001b[0m\u001b[0msys\u001b[0m\u001b[1;33m.\u001b[0m\u001b[0margv\u001b[0m\u001b[1;33m[\u001b[0m\u001b[1;36m1\u001b[0m\u001b[1;33m]\u001b[0m\u001b[1;33m,\u001b[0m \u001b[0mswapyz\u001b[0m\u001b[1;33m=\u001b[0m\u001b[0mTrue\u001b[0m\u001b[1;33m)\u001b[0m\u001b[1;33m\u001b[0m\u001b[0m\n\u001b[0m\u001b[1;32m     32\u001b[0m \u001b[1;33m\u001b[0m\u001b[0m\n\u001b[1;32m     33\u001b[0m \u001b[0mclock\u001b[0m \u001b[1;33m=\u001b[0m \u001b[0mpygame\u001b[0m\u001b[1;33m.\u001b[0m\u001b[0mtime\u001b[0m\u001b[1;33m.\u001b[0m\u001b[0mClock\u001b[0m\u001b[1;33m(\u001b[0m\u001b[1;33m)\u001b[0m\u001b[1;33m\u001b[0m\u001b[0m\n",
      "\u001b[0;32mC:\\Users\\Admin\\ComputerVision\\Computer Vision with Python\\Chapter 4. Camera Models and Augmented Reality\\objloader.py\u001b[0m in \u001b[0;36m__init__\u001b[0;34m(self, filename, swapyz)\u001b[0m\n\u001b[1;32m     40\u001b[0m \u001b[1;33m\u001b[0m\u001b[0m\n\u001b[1;32m     41\u001b[0m         \u001b[0mmaterial\u001b[0m \u001b[1;33m=\u001b[0m \u001b[0mNone\u001b[0m\u001b[1;33m\u001b[0m\u001b[0m\n\u001b[0;32m---> 42\u001b[0;31m         \u001b[1;32mfor\u001b[0m \u001b[0mline\u001b[0m \u001b[1;32min\u001b[0m \u001b[0mopen\u001b[0m\u001b[1;33m(\u001b[0m\u001b[0mfilename\u001b[0m\u001b[1;33m,\u001b[0m \u001b[1;34m\"r\"\u001b[0m\u001b[1;33m)\u001b[0m\u001b[1;33m:\u001b[0m\u001b[1;33m\u001b[0m\u001b[0m\n\u001b[0m\u001b[1;32m     43\u001b[0m             \u001b[1;32mif\u001b[0m \u001b[0mline\u001b[0m\u001b[1;33m.\u001b[0m\u001b[0mstartswith\u001b[0m\u001b[1;33m(\u001b[0m\u001b[1;34m'#'\u001b[0m\u001b[1;33m)\u001b[0m\u001b[1;33m:\u001b[0m \u001b[1;32mcontinue\u001b[0m\u001b[1;33m\u001b[0m\u001b[0m\n\u001b[1;32m     44\u001b[0m             \u001b[0mvalues\u001b[0m \u001b[1;33m=\u001b[0m \u001b[0mline\u001b[0m\u001b[1;33m.\u001b[0m\u001b[0msplit\u001b[0m\u001b[1;33m(\u001b[0m\u001b[1;33m)\u001b[0m\u001b[1;33m\u001b[0m\u001b[0m\n",
      "\u001b[0;31mIOError\u001b[0m: [Errno 2] No such file or directory: '-f'"
     ]
    }
   ],
   "source": [
    "# Basic OBJ file viewer. needs objloader from:\n",
    "#  http://www.pygame.org/wiki/OBJFileLoader\n",
    "# LMB + move: rotate\n",
    "# RMB + move: pan\n",
    "# Scroll wheel: zoom in/out\n",
    "import sys, pygame\n",
    "from pygame.locals import *\n",
    "from pygame.constants import *\n",
    "from OpenGL.GL import *\n",
    "from OpenGL.GLU import *\n",
    "\n",
    "# IMPORT OBJECT LOADER\n",
    "from objloader import *\n",
    "\n",
    "pygame.init()\n",
    "viewport = (800,600)\n",
    "hx = viewport[0]/2\n",
    "hy = viewport[1]/2\n",
    "srf = pygame.display.set_mode(viewport, OPENGL | DOUBLEBUF)\n",
    "\n",
    "glLightfv(GL_LIGHT0, GL_POSITION,  (-40, 200, 100, 0.0))\n",
    "glLightfv(GL_LIGHT0, GL_AMBIENT, (0.2, 0.2, 0.2, 1.0))\n",
    "glLightfv(GL_LIGHT0, GL_DIFFUSE, (0.5, 0.5, 0.5, 1.0))\n",
    "glEnable(GL_LIGHT0)\n",
    "glEnable(GL_LIGHTING)\n",
    "glEnable(GL_COLOR_MATERIAL)\n",
    "glEnable(GL_DEPTH_TEST)\n",
    "glShadeModel(GL_SMOOTH)           # most obj files expect to be smooth-shaded\n",
    "\n",
    "# LOAD OBJECT AFTER PYGAME INIT\n",
    "obj = OBJ(sys.argv[1], swapyz=True)\n",
    "\n",
    "clock = pygame.time.Clock()\n",
    "\n",
    "glMatrixMode(GL_PROJECTION)\n",
    "glLoadIdentity()\n",
    "width, height = viewport\n",
    "gluPerspective(90.0, width/float(height), 1, 100.0)\n",
    "glEnable(GL_DEPTH_TEST)\n",
    "glMatrixMode(GL_MODELVIEW)\n",
    "\n",
    "rx, ry = (0,0)\n",
    "tx, ty = (0,0)\n",
    "zpos = 5\n",
    "rotate = move = False\n",
    "while 1:\n",
    "    clock.tick(30)\n",
    "    for e in pygame.event.get():\n",
    "        if e.type == QUIT:\n",
    "            sys.exit()\n",
    "        elif e.type == KEYDOWN and e.key == K_ESCAPE:\n",
    "            sys.exit()\n",
    "        elif e.type == MOUSEBUTTONDOWN:\n",
    "            if e.button == 4: zpos = max(1, zpos-1)\n",
    "            elif e.button == 5: zpos += 1\n",
    "            elif e.button == 1: rotate = True\n",
    "            elif e.button == 3: move = True\n",
    "        elif e.type == MOUSEBUTTONUP:\n",
    "            if e.button == 1: rotate = False\n",
    "            elif e.button == 3: move = False\n",
    "        elif e.type == MOUSEMOTION:\n",
    "            i, j = e.rel\n",
    "            if rotate:\n",
    "                rx += i\n",
    "                ry += j\n",
    "            if move:\n",
    "                tx += i\n",
    "                ty -= j\n",
    "\n",
    "    glClear(GL_COLOR_BUFFER_BIT | GL_DEPTH_BUFFER_BIT)\n",
    "    glLoadIdentity()\n",
    "\n",
    "    # RENDER OBJECT\n",
    "    glTranslate(tx/20., ty/20., - zpos)\n",
    "    glRotate(ry, 1, 0, 0)\n",
    "    glRotate(rx, 0, 1, 0)\n",
    "    glCallList(obj.gl_list)\n",
    "\n",
    "    pygame.display.flip()\n",
    "\n"
   ]
  }
 ],
 "metadata": {
  "kernelspec": {
   "display_name": "Python 2",
   "language": "python",
   "name": "python2"
  },
  "language_info": {
   "codemirror_mode": {
    "name": "ipython",
    "version": 2
   },
   "file_extension": ".py",
   "mimetype": "text/x-python",
   "name": "python",
   "nbconvert_exporter": "python",
   "pygments_lexer": "ipython2",
   "version": "2.7.13"
  }
 },
 "nbformat": 4,
 "nbformat_minor": 2
}
