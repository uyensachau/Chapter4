{
 "cells": [
  {
   "cell_type": "code",
   "execution_count": 5,
   "metadata": {
    "collapsed": false
   },
   "outputs": [
    {
     "ename": "IOError",
     "evalue": "[Errno 2] No such file or directory: 'ar_camera.pkl'",
     "output_type": "error",
     "traceback": [
      "\u001b[0;31m---------------------------------------------------------------------------\u001b[0m",
      "\u001b[0;31mIOError\u001b[0m                                   Traceback (most recent call last)",
      "\u001b[0;32m<ipython-input-5-734779e77c30>\u001b[0m in \u001b[0;36m<module>\u001b[0;34m()\u001b[0m\n\u001b[1;32m     32\u001b[0m \u001b[1;33m\u001b[0m\u001b[0m\n\u001b[1;32m     33\u001b[0m \u001b[1;31m# load camera data\u001b[0m\u001b[1;33m\u001b[0m\u001b[1;33m\u001b[0m\u001b[0m\n\u001b[0;32m---> 34\u001b[0;31m \u001b[1;32mwith\u001b[0m \u001b[0mopen\u001b[0m\u001b[1;33m(\u001b[0m\u001b[1;34m'ar_camera.pkl'\u001b[0m\u001b[1;33m,\u001b[0m\u001b[1;34m'r'\u001b[0m\u001b[1;33m)\u001b[0m \u001b[1;32mas\u001b[0m \u001b[0mf\u001b[0m\u001b[1;33m:\u001b[0m\u001b[1;33m\u001b[0m\u001b[0m\n\u001b[0m\u001b[1;32m     35\u001b[0m     \u001b[0mK\u001b[0m \u001b[1;33m=\u001b[0m \u001b[0mpickle\u001b[0m\u001b[1;33m.\u001b[0m\u001b[0mload\u001b[0m\u001b[1;33m(\u001b[0m\u001b[0mf\u001b[0m\u001b[1;33m)\u001b[0m\u001b[1;33m\u001b[0m\u001b[0m\n\u001b[1;32m     36\u001b[0m     \u001b[0mRt\u001b[0m \u001b[1;33m=\u001b[0m \u001b[0mpickle\u001b[0m\u001b[1;33m.\u001b[0m\u001b[0mload\u001b[0m\u001b[1;33m(\u001b[0m\u001b[0mf\u001b[0m\u001b[1;33m)\u001b[0m\u001b[1;33m\u001b[0m\u001b[0m\n",
      "\u001b[0;31mIOError\u001b[0m: [Errno 2] No such file or directory: 'ar_camera.pkl'"
     ]
    }
   ],
   "source": [
    "from OpenGL.GL import *\n",
    "from OpenGL.GLU import *\n",
    "from OpenGL.GLUT import *\n",
    "import pygame, pygame.image\n",
    "from pygame.locals import *\n",
    "import pickle\n",
    "\n",
    "def load_and_draw_model(filename):\n",
    "    \"\"\" Loads a model from an .obj file using objloader.py.\n",
    "    Assumes there is a .mtl material file with the same name. \"\"\"\n",
    "    glEnable(GL_LIGHTING)\n",
    "    glEnable(GL_LIGHT0)\n",
    "    glEnable(GL_DEPTH_TEST)\n",
    "    glClear(GL_DEPTH_BUFFER_BIT)\n",
    "    # set model color\n",
    "    glMaterialfv(GL_FRONT,GL_AMBIENT,[0,0,0,0])\n",
    "    glMaterialfv(GL_FRONT,GL_DIFFUSE,[0.5,0.75,1.0,0.0])\n",
    "    glMaterialf(GL_FRONT,GL_SHININESS,0.25*128.0)\n",
    "    # load from a file\n",
    "    import objloader\n",
    "    obj = objloader.OBJ(filename,swapyz=True)\n",
    "    glCallList(obj.gl_list)\n",
    "    \n",
    "\n",
    "width,height = 1000,747\n",
    "    \n",
    "def setup():\n",
    "    \"\"\" Setup window and pygame environment. \"\"\"\n",
    "    pygame.init()\n",
    "    pygame.display.set_mode((width,height),OPENGL | DOUBLEBUF)\n",
    "    pygame.display.set_caption('OpenGL AR demo')\n",
    "    \n",
    "# load camera data\n",
    "with open('ar_camera.pkl','r') as f:\n",
    "    K = pickle.load(f)\n",
    "    Rt = pickle.load(f)\n",
    "\n",
    "setup()\n",
    "draw_background('book_perspective.bmp')\n",
    "set_projection_from_camera(K)\n",
    "set_modelview_from_camera(Rt)\n",
    "draw_teapot(0.02)\n",
    "\n",
    "while True:\n",
    "    event = pygame.event.poll()\n",
    "    if event.type in (QUIT,KEYDOWN):\n",
    "       break\n",
    "    pygame.display.flip()"
   ]
  }
 ],
 "metadata": {
  "kernelspec": {
   "display_name": "Python 2",
   "language": "python",
   "name": "python2"
  },
  "language_info": {
   "codemirror_mode": {
    "name": "ipython",
    "version": 2
   },
   "file_extension": ".py",
   "mimetype": "text/x-python",
   "name": "python",
   "nbconvert_exporter": "python",
   "pygments_lexer": "ipython2",
   "version": "2.7.13"
  }
 },
 "nbformat": 4,
 "nbformat_minor": 2
}
